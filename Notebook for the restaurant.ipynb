{
    "nbformat_minor": 1, 
    "cells": [
        {
            "source": "<H1>High End Restaurant close to Paris</H1>", 
            "cell_type": "markdown", 
            "metadata": {
                "collapsed": true
            }
        }, 
        {
            "source": "<H2>Introduction/Business Problem</H2><BR><BR>\n    <H3><U>Problem description:</U></H3><BR>\n    The question we need to answer here is 'Where would be the best location for a High-End (=expensive) restaurant, in the towns close to Paris?'<BR>\n    Stakeholders interesed in this study are the people interested in opening such restaurant.<BR>\n    <BR><BR>\n    <H3><U>Data description:</U></H3><BR>\n    There will be 2 dataset used for this study:<BR>\n        1 <U>Foursquare</U>: A free dataset, where we can find a list of existing restaurants, their price, and their rate (does customers usually like it or not), and GPS location<BR>\n        2 <U>https://data.iledefrance.fr</U>: A free dataset provided by the french government, with many details regarding the population and companies, including restaurants<BR>\n<BR><BR><BR>\n", 
            "cell_type": "markdown", 
            "metadata": {}
        }, 
        {
            "source": "<H2>Data usage</H2><BR><BR>\n    <B>1. Clean Data</B><BR>\n    Foursquare and iledefrance dataset both proposes a list of existing restaurants.<BR>\n    Besides, we need to distinguish the expensive restaurants from the others.<BR>\n    The goal here is to link the two dataset. <BR>\n    - If a restaurant is missing, then we remove it from the list, because it might be a new one, and the Foursquare recommendations might not be relevant enough.<BR>\n    - If a restaurant is present, then we can add the number of employees to the Foursquare data.<BR><BR>\n    <B>2. Comparison with other restaurants</B><BR>\n    <U>2.1 Visual check</U><BR>\n    - To make a heatmap with the restaurants. To confirm visually Data relevance (missing data in a neighbourhoud), and to check if the restaurants are more located in a place or another.<BR>\n    - To make a heatmap with population: Where are the richest people located. (The restaurant need to be close to such a place)<BR>\n    <B>2.2 AI</B><BR>\n    There are too many restaurants, and the place is too wide, to make a study only by visual check.<BR>\n    We need to use a KNN algorithm: The Nearest Neighbour will give us the best place to locate our restaurant.<BR>\n    Besides, we also can make a study using a decision tree: to understand why other restaurants are located here. (is the revenue more important than the number of people?)<BR>\n<BR>\n    <B>2. Comparison with other restaurants</B><BR>\n    <U>2.1 Visual check</U><BR>\n    - To make a heatmap with the size of companies: The bigger a company is, the more they need good restaurants for inviting customers.<BR>\n    <U>2.2 AI</U><BR>\n    We need to use a KNN algorithm: The Nearest Neighbour will give us the best place to locate our restaurant, based on companies around.<BR>\n    <BR>\n    <BR>\n    <BR>\n    <BR>\n", 
            "cell_type": "markdown", 
            "metadata": {}
        }, 
        {
            "source": ".", 
            "cell_type": "markdown", 
            "metadata": {}
        }
    ], 
    "nbformat": 4, 
    "metadata": {
        "kernelspec": {
            "display_name": "Python 3.6", 
            "name": "python3", 
            "language": "python"
        }, 
        "language_info": {
            "mimetype": "text/x-python", 
            "nbconvert_exporter": "python", 
            "version": "3.6.8", 
            "name": "python", 
            "pygments_lexer": "ipython3", 
            "file_extension": ".py", 
            "codemirror_mode": {
                "version": 3, 
                "name": "ipython"
            }
        }
    }
}